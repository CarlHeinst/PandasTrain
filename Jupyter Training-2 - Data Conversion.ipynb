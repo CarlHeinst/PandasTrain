{
 "cells": [
  {
   "cell_type": "markdown",
   "metadata": {},
   "source": [
    "# Jupyter Training Notebook 2 - Converting Data\n",
    "\n",
    "One thing pandas does REALLY well is reading and writing files\n",
    "\n",
    "### Exercise1 - Read in an Excel Sheet\n",
    "\n",
    "Use the code below to read an Excel file into pandas"
   ]
  },
  {
   "cell_type": "code",
   "execution_count": null,
   "metadata": {},
   "outputs": [],
   "source": [
    "import pandas as pd\n",
    "customer_data = pd.read_excel(\"sample.xlsx\")\n",
    "customer_data"
   ]
  },
  {
   "cell_type": "markdown",
   "metadata": {},
   "source": [
    "Just as we did in Notebook 1 we can produce a LIST of the columns and then output a selected range of columns"
   ]
  },
  {
   "cell_type": "code",
   "execution_count": null,
   "metadata": {},
   "outputs": [],
   "source": [
    "columns = list(customer_data)\n",
    "customer_data[columns[0:5]]"
   ]
  },
  {
   "cell_type": "markdown",
   "metadata": {},
   "source": [
    "### Exercise 2 - Write to JSON\n",
    "\n",
    "Now we are going to convert our data frame into a JSON file:"
   ]
  },
  {
   "cell_type": "code",
   "execution_count": null,
   "metadata": {},
   "outputs": [],
   "source": [
    "customer_data[columns[0:5]].to_json(\"customer_data.json\", orient=\"records\")\n",
    "f = open(\"customer_data.json\", \"r\")\n",
    "print (f.read())\n",
    "f.close()"
   ]
  },
  {
   "cell_type": "markdown",
   "metadata": {},
   "source": [
    "But unfortunately the output is unreadably ugly - this is because pandas outputs JSON as a single line string - good for machines, bad for us.\n",
    "\n",
    "So we use pythons JSON module to make things a bit prettier:"
   ]
  },
  {
   "cell_type": "code",
   "execution_count": null,
   "metadata": {},
   "outputs": [],
   "source": [
    "import json\n",
    "f = open(\"customer_data.json\", \"r\")\n",
    "json_string = f.read()\n",
    "json_obj = json.loads(json_string)\n",
    "print (json.dumps(json_obj, indent=3))"
   ]
  },
  {
   "cell_type": "markdown",
   "metadata": {},
   "source": [
    "A lot more friendly to humans.\n",
    "\n",
    "---\n",
    "\n",
    "### Exercise 3 - Write to CSV\n",
    "\n",
    "Based upon what you've seen of pandas so far:\n",
    "\n",
    "- Output the first 10 columns of the data frame into a CSV file.\n",
    "- Open the CSV file using python and display it's content in the output of the cell below."
   ]
  },
  {
   "cell_type": "code",
   "execution_count": null,
   "metadata": {},
   "outputs": [],
   "source": [
    "customer_data[columns[0:9]]"
   ]
  },
  {
   "cell_type": "markdown",
   "metadata": {},
   "source": [
    "---\n",
    "\n",
    "### Exercise 4 - Write to XLSX\n",
    "\n",
    "Based upon what you've seen of pandas so far:\n",
    "\n",
    "- Output the columns Hostname, IP, Model and Region into an Excel Sheet:\n",
    "- View the Excel Sheet in Excel, something won't be quite right about it - [this might help](http://pandas.pydata.org/pandas-docs/version/0.22/generated/pandas.DataFrame.to_excel.html)"
   ]
  },
  {
   "cell_type": "code",
   "execution_count": null,
   "metadata": {},
   "outputs": [],
   "source": [
    "customer_data"
   ]
  },
  {
   "cell_type": "markdown",
   "metadata": {},
   "source": [
    "---\n",
    "\n",
    "### Exercise 5 - Write to HTML\n",
    "\n",
    "Based upon what you've seen of pandas so far:\n",
    "\n",
    "- Output your DataFrame as an HTML table so it can be emailed."
   ]
  },
  {
   "cell_type": "code",
   "execution_count": null,
   "metadata": {},
   "outputs": [],
   "source": [
    "customer_data"
   ]
  },
  {
   "cell_type": "markdown",
   "metadata": {},
   "source": [
    "### Exercise 6 - Reading Log Files\n",
    "\n",
    "Another useful feature of Pandas is it's ability to read and convert log files into data frames.\n",
    "\n",
    "There are several functions for dealing with [flat files](https://pandas.pydata.org/pandas-docs/stable/api.html#flat-file):\n",
    "\n",
    "In the example below convert the fixed width file ps.log into a data frame:"
   ]
  },
  {
   "cell_type": "code",
   "execution_count": null,
   "metadata": {},
   "outputs": [],
   "source": [
    "pd.read"
   ]
  },
  {
   "cell_type": "markdown",
   "metadata": {},
   "source": [
    "### Exercise 7 - Converting Magic Commands\n",
    "\n",
    "In jupyter notebooks there are magic commands - an example would be the one you saw in Notebook 1 to render matplotlib charts within the notebook.\n",
    "\n",
    "A full list of magic commands can be found [here](https://ipython.readthedocs.io/en/stable/interactive/magics.html#)\n",
    "\n",
    "In the next example we will capture the output of the ls command and then using the same approach we did in Exercise 6 convert it's output into a dataframe."
   ]
  },
  {
   "cell_type": "code",
   "execution_count": null,
   "metadata": {},
   "outputs": [],
   "source": [
    "output = %sx ls -l\n",
    "##output = %sx dir "
   ]
  },
  {
   "cell_type": "markdown",
   "metadata": {},
   "source": [
    "The output object returned has a number of special properties assigned to it, in the code box below, view the .s .l and .n properties and also examine the raw value itself:"
   ]
  },
  {
   "cell_type": "code",
   "execution_count": null,
   "metadata": {},
   "outputs": [],
   "source": []
  },
  {
   "cell_type": "markdown",
   "metadata": {},
   "source": [
    "Finally we will convert the output - one thing as a \"cheat\" is that we will use Python's StringIO function to convert the string output of our command into a \"file\" so that the pd.read functions will work"
   ]
  },
  {
   "cell_type": "code",
   "execution_count": null,
   "metadata": {},
   "outputs": [],
   "source": [
    "from io import StringIO\n",
    "pd.read_?????(StringIO(output.?????))"
   ]
  },
  {
   "cell_type": "code",
   "execution_count": null,
   "metadata": {},
   "outputs": [],
   "source": []
  }
 ],
 "metadata": {
  "kernelspec": {
   "display_name": "Python 3",
   "language": "python",
   "name": "python3"
  },
  "language_info": {
   "codemirror_mode": {
    "name": "ipython",
    "version": 3
   },
   "file_extension": ".py",
   "mimetype": "text/x-python",
   "name": "python",
   "nbconvert_exporter": "python",
   "pygments_lexer": "ipython3",
   "version": "3.6.4"
  }
 },
 "nbformat": 4,
 "nbformat_minor": 2
}
