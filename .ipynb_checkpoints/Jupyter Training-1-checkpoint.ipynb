{
 "cells": [
  {
   "cell_type": "markdown",
   "metadata": {},
   "source": [
    "# Jupyter Training Notebook 1 - Executing Code, Examining Output, Adding Markdown and DataFrames\n",
    "\n",
    "This notebook has been created by the CSI-EU team to train you in using the Jupyter Notebook.\n",
    "\n",
    "You should have already downloaded [Anaconda](https://www.anaconda.com/download) - for your client OS.\n",
    "\n",
    "#### Launch Anaconda Navigator - Jupyter Lab\n",
    "\n",
    "By Reading this page you are already interacting with a Jupyter notebook.\n",
    "\n",
    "#### Example 1 - Executing Code\n",
    "\n",
    "Below this text area is a block of text click on it and press CTRL + ENTER"
   ]
  },
  {
   "cell_type": "code",
   "execution_count": null,
   "metadata": {},
   "outputs": [],
   "source": [
    "import platform\n",
    "platform.platform()"
   ]
  },
  {
   "cell_type": "markdown",
   "metadata": {},
   "source": [
    "Normally if you ran the above as a Python script you would see nothing appear in your standard output - this is one of Jupyter's primary uses, being able to output and examine variables - across multiple platforms and languages.\n",
    "\n",
    "Which ever variable appears as the last line of the script will be displayed \n",
    "\n",
    "Click <a href='#Kernels'>here</a> to continue."
   ]
  },
  {
   "cell_type": "markdown",
   "metadata": {},
   "source": [
    "<a id=\"Kernels\"></a>\n",
    "# Kernels\n",
    "\n",
    "Code in Jupyter runs inside of what is known as a kernel - this notebook for example uses the Python 3 kernel - which means that it executes Python 3 code.\n",
    "\n",
    "Jupyter was originally created to allow interaction with Python but it is now possible to run Jupyter with a wide variety of kernels, such as BASH, PowerShell, NodeJS and [many more](https://github.com/jupyter/jupyter/wiki/Jupyter-kernels)\n",
    "\n",
    "If ever you are curious which Kernel you are using look up at the top right hand corner of your Notebook and you will see the kernel name with a circle next to it.\n",
    "\n",
    "## Exercise 1 - Code Completion\n",
    "\n",
    "In the code box below add the character \".\" to the end of platform and hit the TAB key:\n",
    "\n",
    "![alt text](plat shot.png \"Title\")\n",
    "\n",
    "Use the code completition to locate the following properties of platform:\n",
    "\n",
    "- os.name\n",
    "- run the sub function platform\n",
    "- run the sub function os.getcwd\n",
    "\n",
    "Remember -  execute with CTRL + ENTER"
   ]
  },
  {
   "cell_type": "code",
   "execution_count": null,
   "metadata": {},
   "outputs": [],
   "source": [
    "import platform"
   ]
  },
  {
   "cell_type": "markdown",
   "metadata": {},
   "source": [
    "## Markdown Inside of Your Notebook\n",
    "\n",
    "As well as being able to store and execute code, Jupyter Notebooks are able to contain rich markdown content to properly document and highlight how to use the code they contain.\n",
    "\n",
    "For example all of the screen shots and notes you have read so far are written in markdown - even this note you are reading right now.\n",
    "\n",
    "To view the markdown in a markdown cell you can double click on it.\n",
    "\n",
    "Once you have finished examining it press CTRL+ENTER to render it once again.\n",
    "\n",
    "---\n",
    "\n",
    "## Exercise 2 - Using Markdown\n",
    "\n",
    "With this cell highlighted click the plus symbol to add a new cell:\n",
    "\n",
    "![alt text](plusmenu.png \"Title\")\n",
    "\n",
    "Click inside of your cell and then using the drop down menu change it's type from Code to Markdown:\n",
    "\n",
    "![alt text](dropdownmd.png \"Title\")\n",
    "\n",
    "Referring to other Markdown cells in this work sheet create text with the following:\n",
    "\n",
    "- An example of Some H1, H2 and H3 Title text\n",
    "- An example of bold and italic text\n",
    "- Insert the image wave.jpg\n",
    "- Create a list of bullet point items just like the one you've been working through"
   ]
  },
  {
   "cell_type": "markdown",
   "metadata": {},
   "source": [
    "Click <a href='#Dataframes'>here</a> to continue."
   ]
  },
  {
   "cell_type": "markdown",
   "metadata": {},
   "source": [
    "# Dataframes\n",
    "\n",
    "Technically DataFrames are part of the python module [pandas](https://pandas.pydata.org/pandas-docs/stable/index.html) - but jupyter has great options for rendering DataFrames in an HTML table view.\n",
    "\n",
    "An example is used below - CTRL + ENTER to Execute"
   ]
  },
  {
   "cell_type": "code",
   "execution_count": null,
   "metadata": {},
   "outputs": [],
   "source": [
    "import requests\n",
    "import pandas as pd\n",
    "pd.set_option('display.max_rows', 6)\n",
    "pd.set_option('display.max_columns', 10)\n",
    "results = requests.get(\"https://swapi.co/api/starships\").json()['results']\n",
    "results += requests.get(\"https://swapi.co/api/starships/?page=2\").json()['results']\n",
    "results += requests.get(\"https://swapi.co/api/starships/?page=3\").json()['results']\n",
    "results += requests.get(\"https://swapi.co/api/starships/?page=4\").json()['results']\n",
    "starwarsframe = pd.DataFrame(results)\n",
    "starwarsframe"
   ]
  },
  {
   "cell_type": "markdown",
   "metadata": {},
   "source": [
    "The only trouble with that data is that it's a bit of a mess, the ... indicate that the rows and columns have been truncated to fit on screen.\n",
    "\n",
    "Data courtesy of the [Star Wars API](https://swapi.co/)\n",
    "\n",
    "---\n",
    "\n",
    "\n",
    "## DataFrames - Selecting Fields\n",
    "\n",
    "First of all let's have a look at what column names are in this frame:"
   ]
  },
  {
   "cell_type": "code",
   "execution_count": null,
   "metadata": {},
   "outputs": [],
   "source": [
    "list(starwarsframe)"
   ]
  },
  {
   "cell_type": "markdown",
   "metadata": {},
   "source": [
    "In order to select particular columns from a data frame an easy way to do so is to add the values into a list(array) and apply this to the frame:"
   ]
  },
  {
   "cell_type": "code",
   "execution_count": null,
   "metadata": {},
   "outputs": [],
   "source": [
    "col_list = ['name','crew','MGLT','starship_class']\n",
    "starwarsframe[col_list]"
   ]
  },
  {
   "cell_type": "markdown",
   "metadata": {},
   "source": [
    "---\n",
    "### Exercise 3 - Selecting Fields\n",
    "\n",
    "- Using the list of Column Names as a reference, create a query showing the name, cost, model, cargo and films columns\n",
    "- Using the list of Column Names as a reference, create a query showing the name, MGLT, max_atmosphering_speed and consumables"
   ]
  },
  {
   "cell_type": "code",
   "execution_count": null,
   "metadata": {},
   "outputs": [],
   "source": [
    "col_list = []\n",
    "starwarsframe[col_list]"
   ]
  },
  {
   "cell_type": "markdown",
   "metadata": {},
   "source": [
    "---\n",
    "### Selecting Fields Continued\n",
    "\n",
    "- Set the value of col_list to be the names of all DataFrame columns.\n",
    "- Use only the first 10 values in this list to show the first 10 columns\n",
    "- Use only the last 6 values in this list to show the last 6 columns\n"
   ]
  },
  {
   "cell_type": "code",
   "execution_count": null,
   "metadata": {},
   "outputs": [],
   "source": [
    "col_list = list(starwarsframe)\n",
    "starwarsframe"
   ]
  },
  {
   "cell_type": "markdown",
   "metadata": {},
   "source": [
    "- Using the same logic display only the first 10 entries in the starwarsframe:"
   ]
  },
  {
   "cell_type": "code",
   "execution_count": null,
   "metadata": {},
   "outputs": [],
   "source": []
  },
  {
   "cell_type": "markdown",
   "metadata": {},
   "source": [
    "### Exercise 4 - Manipulating Values\n",
    "\n",
    "It is also possible with pandas to create a series based on values within a dataframe.\n",
    "\n",
    "- Create a series which shows the count of manufacturers for our star ships:\n",
    "\n",
    "```python\n",
    "starwarsframe['manufacturer'].value_counts()\n",
    "##starwarsframe['manufacturer'].value_counts().p\n",
    "```\n",
    "- Execute the first line to view the series and experiment selecting values from it and converting it into a list.\n",
    "- Use the second line and see if you can figure out how to plot the series as a pie chart."
   ]
  },
  {
   "cell_type": "code",
   "execution_count": null,
   "metadata": {},
   "outputs": [],
   "source": []
  },
  {
   "cell_type": "markdown",
   "metadata": {},
   "source": [
    "---\n",
    "### Exercise 5 - Plotting ~~To Overthrow the Empire~~\n",
    "\n",
    "Pandas also has the ability to automatically plot dataframes - in the example below we have to convert the dataframe columns above into \"real\" numeric values.\n",
    "\n",
    "We use errors='coerce' so that if the value can't be converted it returns as a NaN and then we fill NaN with the value 0 using fillna:"
   ]
  },
  {
   "cell_type": "code",
   "execution_count": null,
   "metadata": {},
   "outputs": [],
   "source": [
    "%matplotlib inline\n",
    "from matplotlib import pyplot as plt\n",
    "\n",
    "starwarsframe['hyperdrive_rating'] = pd.to_numeric(starwarsframe['hyperdrive_rating'], errors='coerce').fillna(value=0)\n",
    "starwarsframe[['starship_class','hyperdrive_rating']].plot.barh(x='starship_class')\n"
   ]
  },
  {
   "cell_type": "markdown",
   "metadata": {},
   "source": [
    "### Fancier Plots:\n",
    "\n",
    "You can use the seaborn package to make your plots look even prettier:"
   ]
  },
  {
   "cell_type": "code",
   "execution_count": null,
   "metadata": {},
   "outputs": [],
   "source": [
    "import seaborn as sns\n",
    "f, ax = plt.subplots(figsize=(12, 6))\n",
    "starwarsframe['crew'] = pd.to_numeric(starwarsframe['crew'], errors='coerce').fillna(value=0)\n",
    "starplot = sns.barplot(y = 'starship_class', x = 'hyperdrive_rating', data = starwarsframe)\n",
    "for x_ticks in starplot.get_xticklabels():\n",
    "    x_ticks.set_rotation(90)\n",
    "##ax.legend(loc=\"lower right\", frameon=True)\n",
    "ax.set(ylabel=\"\", xlabel=\"Hyperdrive Rating\")\n"
   ]
  },
  {
   "cell_type": "markdown",
   "metadata": {},
   "source": [
    "---\n",
    "\n",
    "### Exercise 6 - Investigation\n",
    "\n",
    "Use the Power of the Force - and perhaps Google - to figure out how to do the following:\n",
    "\n",
    "- Select the First 5 Dataframe rows - without using Pythonic Array Syntax - DataFrames have their own built in operator\n",
    "- Select the Last 5 Dataframe rows\n",
    "- Find the total cost (or sum) in credits of all of the ships in the frame\n",
    "- Plot the hyper drive rating of each ship as a vertical bar chart - with the ship's name as the X axis\n",
    "- Do the above and experiment with some of the Seaborn additional formatting that is available\n",
    "- Create a new dataframe which shows the number of different starship_class \n",
    "- Plot the above into a bar chart"
   ]
  },
  {
   "cell_type": "code",
   "execution_count": null,
   "metadata": {},
   "outputs": [],
   "source": []
  }
 ],
 "metadata": {
  "kernelspec": {
   "display_name": "Python 3",
   "language": "python",
   "name": "python3"
  },
  "language_info": {
   "codemirror_mode": {
    "name": "ipython",
    "version": 3
   },
   "file_extension": ".py",
   "mimetype": "text/x-python",
   "name": "python",
   "nbconvert_exporter": "python",
   "pygments_lexer": "ipython3",
   "version": "3.6.4"
  }
 },
 "nbformat": 4,
 "nbformat_minor": 2
}
