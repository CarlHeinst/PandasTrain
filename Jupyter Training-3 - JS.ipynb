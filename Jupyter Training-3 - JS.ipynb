{
 "cells": [
  {
   "cell_type": "markdown",
   "metadata": {},
   "source": [
    "# Jupyter Training Notebook 3 - Executing JavaScript\n",
    "\n",
    "This notebook explains how to install an additional kernel into jupyter for running node.js code\n",
    "\n",
    "We are summarising the instructions found (here)[https://github.com/n-riesco/ijavascript#installation]\n",
    "\n",
    "```shell\n",
    "conda install nodejs\n",
    "npm install -g ijavascript\n",
    "ijsinstall\n",
    "```\n",
    "\n",
    "Restart your jupyter notebook\n",
    "\n",
    "---\n",
    "\n",
    "Now you will have node.js as well as python and you can change this notebook's kernel by clicking No Kernel in the top corner:\n",
    "\n",
    "![alt text](nokernel.png \"Title\")\n",
    "\n",
    "You will then get the kernel drop down and can choose node.js:\n",
    "\n",
    "![alt text](dropdown.png \"Title\")\n",
    "\n",
    "### Excercise 1 - Execute Some JS\n",
    "\n",
    "Press SHIFT + ENTER to execute the code below:"
   ]
  },
  {
   "cell_type": "code",
   "execution_count": null,
   "metadata": {},
   "outputs": [],
   "source": [
    "var date = new Date();\n",
    "var a_great_big_string = \"kjlrgkljklerjklgjklerlg jklkljkljlk; jkl;jth;lj;rtl jlkrjlhjklhlkr\"\n",
    "console.log(date);\n",
    "console.log(a_great_big_string.match(/kj/));"
   ]
  },
  {
   "cell_type": "markdown",
   "metadata": {},
   "source": [
    "Now let's check our code completion is working.\n",
    "\n",
    "Use the box below to console.log the value of a_great_big_string - remember to use auto complete with tab:"
   ]
  },
  {
   "cell_type": "code",
   "execution_count": null,
   "metadata": {},
   "outputs": [],
   "source": [
    "console"
   ]
  },
  {
   "cell_type": "markdown",
   "metadata": {},
   "source": [
    "### Excercise 2 - Using the JSON Module\n",
    "\n",
    "As you now have node.js fully installed onto your machine you can use the code state below to execute JavaScript regex matches or to test simple code."
   ]
  },
  {
   "cell_type": "code",
   "execution_count": 2,
   "metadata": {},
   "outputs": [
    {
     "data": {
      "text/plain": [
       "'{\"name\":\"Bob\",\"surname\":\"Smith\"}'"
      ]
     },
     "execution_count": 2,
     "metadata": {},
     "output_type": "execute_result"
    }
   ],
   "source": [
    "object_test = {}\n",
    "object_test.name = \"Bob\"\n",
    "object_test.surname = \"Smith\"\n",
    "JSON.stringify(object_test)"
   ]
  },
  {
   "cell_type": "code",
   "execution_count": null,
   "metadata": {},
   "outputs": [],
   "source": []
  }
 ],
 "metadata": {
  "kernelspec": {
   "display_name": "Javascript (Node.js)",
   "language": "javascript",
   "name": "javascript"
  },
  "language_info": {
   "file_extension": ".js",
   "mimetype": "application/javascript",
   "name": "javascript",
   "version": "9.11.1"
  }
 },
 "nbformat": 4,
 "nbformat_minor": 2
}
