{
 "cells": [
  {
   "cell_type": "markdown",
   "metadata": {},
   "source": [
    "# Jupyter Training Notebook 5 - Executing PowerShell Code\n",
    "\n",
    "As well as node.js and bash it is possible to install a PowerShell kernel for jupyter:\n",
    "\n",
    "```shell\n",
    "pip install powershell_kernel\n",
    "python -m powershell_kernel.install\n",
    "```\n",
    "\n",
    "Once these are installed restart your instance of jupyter and you will now have a PowerShell Kernel available:\n",
    "\n",
    "![alt text](poshkernel.png \"Title\")\n",
    "\n",
    "\n",
    "---\n",
    "\n",
    "## Excercise 1 - Running PowerShell\n",
    "\n",
    "Once you have changed this notebook to use PowerShell - attempt the following:\n",
    "\n",
    "- Output the first 10 processes\n",
    "- Get the contents of the Windows or / Directory\n",
    "- Output the host variable"
   ]
  },
  {
   "cell_type": "code",
   "execution_count": null,
   "metadata": {},
   "outputs": [],
   "source": []
  }
 ],
 "metadata": {
  "kernelspec": {
   "display_name": "PowerShell",
   "language": "powershell",
   "name": "powershell"
  },
  "language_info": {
   "codemirror_mode": "shell",
   "file_extension": ".ps1",
   "mimetype": "text/x-sh",
   "name": "powershell"
  }
 },
 "nbformat": 4,
 "nbformat_minor": 2
}
