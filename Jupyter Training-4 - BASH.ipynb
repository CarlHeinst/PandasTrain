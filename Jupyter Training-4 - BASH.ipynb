{
 "cells": [
  {
   "cell_type": "markdown",
   "metadata": {},
   "source": [
    "# Jupyter Training Notebook 4 - Executing Bash Code\n",
    "\n",
    "As well as node.js it is possible to install a bash kernel for jupyter:\n",
    "\n",
    "```shell\n",
    "pip install bash_kernel\n",
    "python -m bash_kernel.install\n",
    "```\n",
    "\n",
    "Once these are installed restart your instance of jupyter and you will now have a Bash Kernel available:\n",
    "\n",
    "![alt text](bashkernel.png \"Title\")\n",
    "\n",
    "\n",
    "---\n",
    "\n",
    "## Excercise 1 - Change this notebook to use the Bash kernel\n",
    "\n",
    "Once you have finished execute the code below:"
   ]
  },
  {
   "cell_type": "code",
   "execution_count": 6,
   "metadata": {},
   "outputs": [
    {
     "name": "stdout",
     "output_type": "stream",
     "text": [
      "ls -l /\n",
      "total 38\n",
      "-rw-rw-r--    1 root  admin   6148 14 Jun 16:14 .DS_Store\n",
      "d--x--x--x    9 root  wheel    288  4 Jun 07:52 .DocumentRevisions-V100\n",
      "dr-xr-xr-t@   2 root  wheel     64 15 Feb 14:13 .HFS+ Private Directory Data?\n",
      "drwxr-xr-x@   3 root  wheel     96 14 Jun 10:27 .PKInstallSandboxManager-SystemSoftware\n",
      "drwx------    5 root  wheel    160 15 Feb 15:34 .Spotlight-V100\n",
      "----------    1 root  admin      0  3 Oct  2017 .file\n",
      "drwx------  338 root  wheel  10816 19 Jun 16:31 .fseventsd\n",
      "drwxr-xr-x    2 root  wheel     64 15 Feb 16:26 .vol\n",
      "drwxrwxr-x+  78 root  admin   2496 18 Jun 15:23 Applications\n",
      "drwxr-xr-x+  64 root  wheel   2048 16 Feb 08:19 Library\n",
      "drwxr-xr-x    2 root  wheel     64 15 Feb 16:26 Network\n",
      "drwxr-xr-x@   4 root  wheel    128 19 Jan 07:34 System\n",
      "drwxr-xr-x    6 root  admin    192 15 Feb 18:37 Users\n",
      "drwxr-xr-x@   4 root  wheel    128 19 Jun 09:58 Volumes\n",
      "drwxr-xr-x@  38 root  wheel   1216 19 Jan 07:37 bin\n",
      "drwxrwxr-t    2 root  admin     64 15 Feb 16:26 cores\n",
      "dr-xr-xr-x    3 root  wheel   4826  4 Jun 07:52 dev\n",
      "lrwxr-xr-x@   1 root  wheel     11 15 Feb 16:26 etc -> private/etc\n",
      "dr-xr-xr-x    2 root  wheel      1 19 Jun 16:26 home\n",
      "-rw-r--r--    1 root  wheel    313  5 Oct  2017 installer.failurerequests\n",
      "dr-xr-xr-x    2 root  wheel      1 19 Jun 16:26 net\n",
      "drwxr-xr-x    4 root  wheel    128 16 Feb 11:20 opt\n",
      "drwxr-xr-x    6 root  wheel    192 15 Feb 16:26 private\n",
      "drwxr-xr-x@  63 root  wheel   2016 15 Feb 16:26 sbin\n",
      "lrwxr-xr-x@   1 root  wheel     11 15 Feb 16:26 tmp -> private/tmp\n",
      "drwxr-xr-x@  10 root  wheel    320 15 Feb 16:43 usr\n",
      "lrwxr-xr-x@   1 root  wheel     11 15 Feb 16:26 var -> private/var\n"
     ]
    },
    {
     "ename": "",
     "evalue": "1",
     "execution_count": 6,
     "output_type": "error",
     "traceback": []
    }
   ],
   "source": [
    "ls -l /"
   ]
  },
  {
   "cell_type": "markdown",
   "metadata": {},
   "source": [
    "---\n",
    "\n",
    "Create a file called temp.text containing the following information:\n",
    "\n",
    "```\n",
    "Hello welcome to this lovely file.\n",
    "\n",
    "It is a very very lovely file, full of fascinating data\n",
    "\n",
    "And interesting things.\n",
    "\n",
    "8.8.8.8\n",
    "```"
   ]
  },
  {
   "cell_type": "code",
   "execution_count": null,
   "metadata": {},
   "outputs": [],
   "source": [
    "echo 'Hello welcome to this lovely file. It is a very very lovely file, full of fascinating data And interesting things. 8.8.8.8' > temp.txt"
   ]
  }
 ],
 "metadata": {
  "kernelspec": {
   "display_name": "Bash",
   "language": "bash",
   "name": "bash"
  },
  "language_info": {
   "codemirror_mode": "shell",
   "file_extension": ".sh",
   "mimetype": "text/x-sh",
   "name": "bash"
  }
 },
 "nbformat": 4,
 "nbformat_minor": 2
}
